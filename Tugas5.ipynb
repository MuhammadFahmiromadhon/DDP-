{
  "nbformat": 4,
  "nbformat_minor": 0,
  "metadata": {
    "colab": {
      "provenance": [],
      "authorship_tag": "ABX9TyOiRAshHVafObTaix5fpQ1r",
      "include_colab_link": true
    },
    "kernelspec": {
      "name": "python3",
      "display_name": "Python 3"
    },
    "language_info": {
      "name": "python"
    }
  },
  "cells": [
    {
      "cell_type": "markdown",
      "metadata": {
        "id": "view-in-github",
        "colab_type": "text"
      },
      "source": [
        "<a href=\"https://colab.research.google.com/github/MuhammadFahmiromadhon/DDP-/blob/main/Tugas5.ipynb\" target=\"_parent\"><img src=\"https://colab.research.google.com/assets/colab-badge.svg\" alt=\"Open In Colab\"/></a>"
      ]
    },
    {
      "cell_type": "code",
      "execution_count": null,
      "metadata": {
        "id": "wioB4A2-W_wE",
        "colab": {
          "base_uri": "https://localhost:8080/"
        },
        "outputId": "a0c7ed8e-8df3-4f86-814a-71221b753222"
      },
      "outputs": [
        {
          "output_type": "stream",
          "name": "stdout",
          "text": [
            "['civic', 'Mobil', 'honda', '2000 cc', 'hitam', 4, 'Rp.lima ratus juta', 'Sedan']\n"
          ]
        }
      ],
      "source": [
        "kendaraan= [\"civic\", \"Mobil\", \"2000 cc\", \"hitam\",4]\n",
        "kendaraan.append(\"Rp.lima ratus juta\")\n",
        "kendaraan.append(\"Sedan\")\n",
        "kendaraan.insert(2,\"honda\")\n",
        "print(kendaraan)\n",
        "pilihan = input(\"\"\"\n",
        "        ***pilih operasi***\n",
        "        1.Hitung persegi\n",
        "        2.Hitung lingkaran\n",
        "        3.Hitung segitiga\n",
        "        masukkan pilihan:\n",
        "        \"\"\")\n",
        "match pilihan:\n",
        "    case \"1\":\n",
        "       s=int(input(\"masukkan sisi: \"))\n",
        "       persegi=s*s\n",
        "       print(\"luas persegi\",persegi)\n",
        "    case \"2\":\n",
        "        phi=3.14\n",
        "        r=int(input(\"masukkan jari jari: \"))\n",
        "        lingkaran=phi*r*r\n",
        "        print(\"luas lingkaran\", lingkaran)\n",
        "    case \"3\":\n",
        "        l=1/2\n",
        "        a=int(input(\"masukkan alas: \"))\n",
        "        t=int(input(\"masukkan tinggi: \"))\n",
        "        segitiga=l*a*t\n",
        "        print(\"luas segitiga\", segitiga)\n",
        "    case _:\n",
        "        print(\"pilihan tidak tersedia\")"
      ]
    }
  ]
}